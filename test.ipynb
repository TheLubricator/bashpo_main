{
 "cells": [
  {
   "cell_type": "code",
   "execution_count": 7,
   "metadata": {},
   "outputs": [
    {
     "name": "stdout",
     "output_type": "stream",
     "text": [
      "[(5, 7), (6, 8)]\n",
      "[[4.0, 7], [4.800000000000001, 8]]\n"
     ]
    }
   ],
   "source": [
    "a=((5,7),(6,8))\n",
    "b=list(a)\n",
    "print(b)\n",
    "for i in range (len(b)):\n",
    "    b[i]=list(b[i])\n",
    "    b[i][0]=b[i][0]*0.8\n",
    "print(b)    "
   ]
  },
  {
   "cell_type": "code",
   "execution_count": 2,
   "metadata": {},
   "outputs": [
    {
     "data": {
      "text/plain": [
       "\"SELECT game_name, game_genre, actual_price, img_path_logo FROM game_list CASE WHEN game_genre = 'Action' THEN 1 ELSE 2 END, name\""
      ]
     },
     "execution_count": 2,
     "metadata": {},
     "output_type": "execute_result"
    }
   ],
   "source": [
    "def SearchQueryMaker(ordertype,query_filter):\n",
    "    query_filter=query_filter\n",
    "    if ordertype=='Genre':\n",
    "        strings=\"SELECT game_name, game_genre, actual_price, img_path_logo FROM game_list CASE WHEN game_genre = \"+\"'\"+query_filter+\"'\"+ \" THEN 1 ELSE 2 END, name\"\n",
    "        return strings\n",
    "SearchQueryMaker('Genre','Action')    "
   ]
  },
  {
   "cell_type": "code",
   "execution_count": 4,
   "metadata": {},
   "outputs": [
    {
     "name": "stdout",
     "output_type": "stream",
     "text": [
      "1\n"
     ]
    }
   ],
   "source": [
    "print(len([('faiyaz', 'Elden Ring 2')]))"
   ]
  }
 ],
 "metadata": {
  "kernelspec": {
   "display_name": "base",
   "language": "python",
   "name": "python3"
  },
  "language_info": {
   "codemirror_mode": {
    "name": "ipython",
    "version": 3
   },
   "file_extension": ".py",
   "mimetype": "text/x-python",
   "name": "python",
   "nbconvert_exporter": "python",
   "pygments_lexer": "ipython3",
   "version": "3.12.7"
  }
 },
 "nbformat": 4,
 "nbformat_minor": 2
}
