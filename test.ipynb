{
 "cells": [
  {
   "cell_type": "code",
   "execution_count": 7,
   "metadata": {},
   "outputs": [
    {
     "name": "stdout",
     "output_type": "stream",
     "text": [
      "[(5, 7), (6, 8)]\n",
      "[[4.0, 7], [4.800000000000001, 8]]\n"
     ]
    }
   ],
   "source": [
    "a=((5,7),(6,8))\n",
    "b=list(a)\n",
    "print(b)\n",
    "for i in range (len(b)):\n",
    "    b[i]=list(b[i])\n",
    "    b[i][0]=b[i][0]*0.8\n",
    "print(b)    "
   ]
  }
 ],
 "metadata": {
  "kernelspec": {
   "display_name": "base",
   "language": "python",
   "name": "python3"
  },
  "language_info": {
   "codemirror_mode": {
    "name": "ipython",
    "version": 3
   },
   "file_extension": ".py",
   "mimetype": "text/x-python",
   "name": "python",
   "nbconvert_exporter": "python",
   "pygments_lexer": "ipython3",
   "version": "3.12.7"
  }
 },
 "nbformat": 4,
 "nbformat_minor": 2
}
